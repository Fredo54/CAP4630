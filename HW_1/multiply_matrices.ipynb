{
  "nbformat": 4,
  "nbformat_minor": 0,
  "metadata": {
    "colab": {
      "name": "multiply_matrices.ipynb",
      "provenance": [],
      "collapsed_sections": [],
      "toc_visible": true,
      "authorship_tag": "ABX9TyPk3KhqTh7ip5yDIJgKDpte",
      "include_colab_link": true
    },
    "kernelspec": {
      "name": "python3",
      "display_name": "Python 3"
    }
  },
  "cells": [
    {
      "cell_type": "markdown",
      "metadata": {
        "id": "view-in-github",
        "colab_type": "text"
      },
      "source": [
        "<a href=\"https://colab.research.google.com/github/Fredo54/CAP4630/blob/master/HW_1/multiply_matrices.ipynb\" target=\"_parent\"><img src=\"https://colab.research.google.com/assets/colab-badge.svg\" alt=\"Open In Colab\"/></a>"
      ]
    },
    {
      "cell_type": "markdown",
      "metadata": {
        "id": "IH237y_6ZqUO",
        "colab_type": "text"
      },
      "source": [
        "\n",
        "*   The program takes in a list of arrays.\n",
        "*   It pops the first 2 arrays and multiplies them.\n",
        "*   It takes the product of the 2 arrays, appends it to list to continue multiplying\n",
        "*   When it reaches a failure it prints out the arrays it tried multiplying\n",
        "\n",
        "\n",
        "\n"
      ]
    },
    {
      "cell_type": "code",
      "metadata": {
        "id": "vQpuOztQTzR5",
        "colab_type": "code",
        "colab": {
          "base_uri": "https://localhost:8080/",
          "height": 202
        },
        "outputId": "32c1fcc5-97db-4b94-ee2f-c45dd7a67cf4"
      },
      "source": [
        "import numpy as np\n",
        "\n",
        "array_1 = np.array(([\n",
        "                      1, 2\n",
        "                      ],\n",
        "                     [\n",
        "                      2, 1\n",
        "                      ]))\n",
        "array_2 = np.array(([\n",
        "                     3, 4, 3\n",
        "                     ],\n",
        "                    [\n",
        "                     4, 3, 3\n",
        "                     ]))\n",
        "array_4 = np.array(([\n",
        "                     1, 0\n",
        "                     ],\n",
        "                    [\n",
        "                     0, 1\n",
        "                     ]))\n",
        "array_5 = np.array(([\n",
        "                     4, 5\n",
        "                     ],\n",
        "                    [\n",
        "                     6, 7\n",
        "                     ]))\n",
        "lst = []\n",
        "lst.append(array_1)\n",
        "lst.append(array_2)\n",
        "lst2 = []\n",
        "lst2.append(array_4)\n",
        "lst2.append(array_5)\n",
        "multiply_matrices(lst)\n",
        "multiply_matrices(lst2)\n",
        "def multiply_matrices(\n",
        "    lst\n",
        "    ):\n",
        "  while lst:\n",
        "    try:\n",
        "      array_1 = lst.pop()\n",
        "      array_2 = lst.pop()\n",
        "      array_3 = np.matmul(array_1, array_2)\n",
        "      lst.append(array_3)\n",
        "      if len(lst) == 1:\n",
        "        print(lst[0])\n",
        "        print()\n",
        "        break\n",
        "    except:\n",
        "      print(\"array_1: \")\n",
        "      print(array_1)\n",
        "      print(\"array_2: \")\n",
        "      print(array_2)\n",
        "      print(\"are incompatible\")\n",
        "      print()\n",
        "\n",
        "\n"
      ],
      "execution_count": 89,
      "outputs": [
        {
          "output_type": "stream",
          "text": [
            "array_1: \n",
            "[[3 4 3]\n",
            " [4 3 3]]\n",
            "array_2: \n",
            "[[1 2]\n",
            " [2 1]]\n",
            "are incompatible\n",
            "\n",
            "[[4 5]\n",
            " [6 7]]\n",
            "\n"
          ],
          "name": "stdout"
        }
      ]
    }
  ]
}
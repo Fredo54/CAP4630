{
  "nbformat": 4,
  "nbformat_minor": 0,
  "metadata": {
    "colab": {
      "name": "hw2_prob3.ipynb",
      "provenance": [],
      "collapsed_sections": [],
      "authorship_tag": "ABX9TyPeTP+bZkrOK/sWkBJX0NE+",
      "include_colab_link": true
    },
    "kernelspec": {
      "name": "python3",
      "display_name": "Python 3"
    }
  },
  "cells": [
    {
      "cell_type": "markdown",
      "metadata": {
        "id": "view-in-github",
        "colab_type": "text"
      },
      "source": [
        "<a href=\"https://colab.research.google.com/github/Fredo54/CAP4630/blob/master/HW_2/hw2_prob3.ipynb\" target=\"_parent\"><img src=\"https://colab.research.google.com/assets/colab-badge.svg\" alt=\"Open In Colab\"/></a>"
      ]
    },
    {
      "cell_type": "code",
      "metadata": {
        "id": "N_HASS0iojZl",
        "colab_type": "code",
        "outputId": "a234c5b3-4ca7-4e24-f878-9966aca6b464",
        "colab": {
          "base_uri": "https://localhost:8080/",
          "height": 51
        }
      },
      "source": [
        "%tensorflow_version 2.x\n",
        "import tensorflow as tf\n",
        "from tensorflow import keras\n",
        "import numpy as np\n",
        "print(tf.__version__)\n",
        "print(keras.__version__)\n",
        "(train_images, train_labels), (test_images, test_labels) = tf.keras.datasets.mnist.load_data()"
      ],
      "execution_count": 56,
      "outputs": [
        {
          "output_type": "stream",
          "text": [
            "2.1.0\n",
            "2.2.4-tf\n"
          ],
          "name": "stdout"
        }
      ]
    },
    {
      "cell_type": "code",
      "metadata": {
        "id": "Drpe66ibyxyV",
        "colab_type": "code",
        "colab": {}
      },
      "source": [
        "%matplotlib inline\n",
        "import matplotlib.pyplot as plt"
      ],
      "execution_count": 0,
      "outputs": []
    },
    {
      "cell_type": "code",
      "metadata": {
        "id": "n-P1vTq324xq",
        "colab_type": "code",
        "outputId": "0e7e97a0-9b1d-42d2-9c25-5046f23ed1cc",
        "colab": {
          "base_uri": "https://localhost:8080/",
          "height": 1000
        }
      },
      "source": [
        "num0 = np.zeros((28, 28))\n",
        "num1 = np.zeros((28, 28))\n",
        "num2 = np.zeros((28, 28))\n",
        "num3 = np.zeros((28, 28))\n",
        "num4 = np.zeros((28, 28))\n",
        "num5 = np.zeros((28, 28))\n",
        "num6 = np.zeros((28, 28))\n",
        "num7 = np.zeros((28, 28))\n",
        "num8 = np.zeros((28, 28))\n",
        "num9 = np.zeros((28, 28))\n",
        "counter = [0,0,0,0,0,0,0,0,0,0]\n",
        "\n",
        "for n in range(60000):\n",
        "    if train_labels[n] == 0:\n",
        "      counter[0] += 1\n",
        "      num0 = num0 + train_images[n]\n",
        "    if train_labels[n] == 1:\n",
        "      counter[1] +=1\n",
        "      num1 = num1 + train_images[n]\n",
        "    if train_labels[n] == 2:\n",
        "      counter[2] += 1\n",
        "      num2 = num2 + train_images[n]\n",
        "    if train_labels[n] == 3:\n",
        "      counter[3] += 1\n",
        "      num3 = num3 + train_images[n]\n",
        "    if train_labels[n] == 4:\n",
        "      counter[4] += 1\n",
        "      num4 = num4 + train_images[n]\n",
        "    if train_labels[n] == 5:\n",
        "      counter[5] += 1\n",
        "      num5 = num5 + train_images[n]\n",
        "    if train_labels[n] == 6:\n",
        "      counter[6] += 1\n",
        "      num6 = num6 + train_images[n]\n",
        "    if train_labels[n] == 7:\n",
        "      counter[7] += 1\n",
        "      num7 = num7 + train_images[n]\n",
        "    if train_labels[n] == 8:\n",
        "      counter[8] += 1\n",
        "      num8 = num8 + train_images[n]\n",
        "    if train_labels[n] == 9:\n",
        "      counter[9] += 1\n",
        "      num9 = num9 + train_images[n]\n",
        "  \n",
        "\n",
        "nums = [num0, num1, num2, num3, num4, num5, num6, num7, num8, num9]\n",
        "\n",
        "for i in range(len(nums)):\n",
        "  nums[i] = nums[i] / counter[i]\n",
        "\n",
        "for n in range(len(nums)):\n",
        "  plt.axis('off')\n",
        "  plt.imshow(nums[n])\n",
        "  plt.show()\n"
      ],
      "execution_count": 59,
      "outputs": [
        {
          "output_type": "display_data",
          "data": {
            "image/png": "[encoded data removed]",
            "text/plain": [
              "<Figure size 432x288 with 1 Axes>"
            ]
          },
          "metadata": {
            "tags": []
          }
        },
        {
          "output_type": "display_data",
          "data": {
            "image/png": "[encoded data removed]",
            "text/plain": [
              "<Figure size 432x288 with 1 Axes>"
            ]
          },
          "metadata": {
            "tags": []
          }
        },
        {
          "output_type": "display_data",
          "data": {
            "image/png": "[encoded data removed]",
            "text/plain": [
              "<Figure size 432x288 with 1 Axes>"
            ]
          },
          "metadata": {
            "tags": []
          }
        },
        {
          "output_type": "display_data",
          "data": {
            "image/png": "[encoded data removed]",
            "text/plain": [
              "<Figure size 432x288 with 1 Axes>"
            ]
          },
          "metadata": {
            "tags": []
          }
        },
        {
          "output_type": "display_data",
          "data": {
            "image/png": "[encoded data removed]",
            "text/plain": [
              "<Figure size 432x288 with 1 Axes>"
            ]
          },
          "metadata": {
            "tags": []
          }
        },
        {
          "output_type": "display_data",
          "data": {
            "image/png": "[encoded data removed]",
            "text/plain": [
              "<Figure size 432x288 with 1 Axes>"
            ]
          },
          "metadata": {
            "tags": []
          }
        },
        {
          "output_type": "display_data",
          "data": {
            "image/png": "[encoded data removed]",
            "text/plain": [
              "<Figure size 432x288 with 1 Axes>"
            ]
          },
          "metadata": {
            "tags": []
          }
        },
        {
          "output_type": "display_data",
          "data": {
            "image/png": "[encoded data removed]",
            "text/plain": [
              "<Figure size 432x288 with 1 Axes>"
            ]
          },
          "metadata": {
            "tags": []
          }
        },
        {
          "output_type": "display_data",
          "data": {
            "image/png": "[encoded data removed]",
            "text/plain": [
              "<Figure size 432x288 with 1 Axes>"
            ]
          },
          "metadata": {
            "tags": []
          }
        },
        {
          "output_type": "display_data",
          "data": {
            "image/png": "[encoded data removed]",
            "text/plain": [
              "<Figure size 432x288 with 1 Axes>"
            ]
          },
          "metadata": {
            "tags": []
          }
        }
      ]
    }
  ]
}
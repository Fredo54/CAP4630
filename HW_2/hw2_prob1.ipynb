{
  "nbformat": 4,
  "nbformat_minor": 0,
  "metadata": {
    "colab": {
      "name": "hw2_prob1.ipynb",
      "provenance": [],
      "collapsed_sections": [],
      "authorship_tag": "ABX9TyOiWivF/Y6pVqSsmeNWDoAw",
      "include_colab_link": true
    },
    "kernelspec": {
      "name": "python3",
      "display_name": "Python 3"
    }
  },
  "cells": [
    {
      "cell_type": "markdown",
      "metadata": {
        "id": "view-in-github",
        "colab_type": "text"
      },
      "source": [
        "<a href=\"https://colab.research.google.com/github/Fredo54/CAP4630/blob/master/HW_2/hw2_prob1.ipynb\" target=\"_parent\"><img src=\"https://colab.research.google.com/assets/colab-badge.svg\" alt=\"Open In Colab\"/></a>"
      ]
    },
    {
      "cell_type": "code",
      "metadata": {
        "id": "ojhUFwwvWmQW",
        "colab_type": "code",
        "colab": {}
      },
      "source": [
        "from mpl_toolkits import mplot3d\n",
        "%matplotlib inline\n",
        "import numpy as np\n",
        "import matplotlib.pyplot as plt\n",
        "plt.style.use('seaborn-white')"
      ],
      "execution_count": 0,
      "outputs": []
    },
    {
      "cell_type": "code",
      "metadata": {
        "id": "qI7hf8GW8t4y",
        "colab_type": "code",
        "colab": {}
      },
      "source": [
        "def f(x,y):\n",
        "  return x**2 + 4*y**2 - 2*x**2 * y + 4\n",
        "\n",
        "def g(x,y):\n",
        "  return (5*np.float_power(x,2)) + (np.float_power(y,2) / -2) + 3 + 2*x\n",
        "\n",
        "def h(x,y):\n",
        "  return x**3 + y"
      ],
      "execution_count": 0,
      "outputs": []
    },
    {
      "cell_type": "markdown",
      "metadata": {
        "id": "svkWpO0UnQL5",
        "colab_type": "text"
      },
      "source": [
        "Plot 1"
      ]
    },
    {
      "cell_type": "code",
      "metadata": {
        "id": "lprZ_X0YcBlo",
        "colab_type": "code",
        "colab": {}
      },
      "source": [
        "ax = plt.axes(projection='3d')\n",
        "\n",
        "\n",
        "xline = np.linspace(-5, 15, 10)\n",
        "yline = np.linspace(-5, 5, 10)\n",
        "zline = f(xline, yline)\n",
        "ax.plot3D(xline, yline, zline, 'gray')\n",
        "\n",
        "p1x = np.array([1])\n",
        "p1y = np.array([-1])\n",
        "p1z = f(p1x, p1y)\n",
        "print(p1z)\n",
        "plt.plot(p1x, p1y, p1z, 'ro')\n"
      ],
      "execution_count": 0,
      "outputs": []
    },
    {
      "cell_type": "code",
      "metadata": {
        "id": "ASUyPcztj_2v",
        "colab_type": "code",
        "colab": {}
      },
      "source": [
        "x = np.linspace(-5, 15, 10)\n",
        "y = np.linspace(-5, 5, 10)\n",
        "X, Y = np.meshgrid(x, y)\n",
        "Z = f(X, Y)\n",
        "plt.contour(X, Y, Z, 500, colors='black')\n",
        "\n",
        "p1x = np.array([1])\n",
        "p1y = np.array([-1])\n",
        "p1z = f(p1x, p1y)\n",
        "plt.plot(p1x, p1y, p1z, 'ro')\n"
      ],
      "execution_count": 0,
      "outputs": []
    },
    {
      "cell_type": "code",
      "metadata": {
        "id": "MptQkw5dlgTH",
        "colab_type": "code",
        "colab": {}
      },
      "source": [
        "x = np.linspace(-5, 15, 10)\n",
        "y = np.linspace(-5, 5, 10)\n",
        "X, Y = np.meshgrid(x, y)\n",
        "Z = f(X, Y)\n",
        "plt.contourf(X, Y, Z, 500, cmap='RdGy')\n",
        "\n",
        "p1x = np.array([1])\n",
        "p1y = np.array([-1])\n",
        "p1z = f(p1x, p1y)\n",
        "plt.plot(p1x, p1y, p1z, 'ro')\n"
      ],
      "execution_count": 0,
      "outputs": []
    },
    {
      "cell_type": "markdown",
      "metadata": {
        "id": "AOjAgnjgm8cM",
        "colab_type": "text"
      },
      "source": [
        "Plot 2\n"
      ]
    },
    {
      "cell_type": "code",
      "metadata": {
        "id": "-Wrccpr6fQhp",
        "colab_type": "code",
        "colab": {}
      },
      "source": [
        "ax = plt.axes(projection='3d')\n",
        "\n",
        "\n",
        "xline = np.linspace(-10, 10, 2000)\n",
        "yline = np.linspace(-10, 10, 2000)\n",
        "zline = g(xline, yline)\n",
        "ax.plot3D(xline, yline, zline, 'gray')\n",
        "\n",
        "p2x = np.array([-0.2])\n",
        "p2y = np.array([0])\n",
        "p2z = g(p1x, p1y)\n",
        "plt.plot(p2x, p2y, p2z, 'ro')\n"
      ],
      "execution_count": 0,
      "outputs": []
    },
    {
      "cell_type": "code",
      "metadata": {
        "id": "JtLuQZBOl-FC",
        "colab_type": "code",
        "colab": {}
      },
      "source": [
        "x = np.linspace(-10, 10, 2000)\n",
        "y = np.linspace(-10, 10, 2000)\n",
        "X, Y = np.meshgrid(x, y)\n",
        "Z = g(X, Y)\n",
        "plt.contour(X, Y, Z, 10, colors='black')\n",
        "\n",
        "p1x = np.array([-0.2])\n",
        "p1y = np.array([0])\n",
        "p1z = g(p1x, p1y)\n",
        "plt.plot(p1x, p1y, p1z, 'ro')"
      ],
      "execution_count": 0,
      "outputs": []
    },
    {
      "cell_type": "code",
      "metadata": {
        "id": "LftfttGnmR15",
        "colab_type": "code",
        "colab": {}
      },
      "source": [
        "ax = plt.axes(projection='3d')\n",
        "x = np.linspace(-10, 10, 2000)\n",
        "y = np.linspace(-10, 10, 2000)\n",
        "X, Y = np.meshgrid(x, y)\n",
        "Z = g(X, Y)\n",
        "plt.contourf(X, Y, Z, 50, cmap='RdGy')\n",
        "\n",
        "p1x = np.array([-0.2])\n",
        "p1y = np.array([0])\n",
        "p1z = g(p1x, p1y)\n",
        "plt.plot(p1x, p1y, p1z, 'ro')"
      ],
      "execution_count": 0,
      "outputs": []
    },
    {
      "cell_type": "markdown",
      "metadata": {
        "id": "RXNwo8jXnAa-",
        "colab_type": "text"
      },
      "source": [
        "Plot 3"
      ]
    },
    {
      "cell_type": "code",
      "metadata": {
        "id": "XyO1EuZ3jXQ0",
        "colab_type": "code",
        "colab": {}
      },
      "source": [
        "ax = plt.axes(projection='3d')\n",
        "\n",
        "\n",
        "xline = np.linspace(-10, 10, 2000)\n",
        "yline = np.linspace(-10, 10, 2000)\n",
        "zline = h(xline, yline)\n",
        "ax.plot3D(xline, yline, zline, 'gray')\n",
        "\n",
        "p2x = np.array([0])\n",
        "p2y = np.array([0])\n",
        "p2z = h(p1x, p1y)\n",
        "plt.plot(p2x, p2y, p2z, 'ro')"
      ],
      "execution_count": 0,
      "outputs": []
    },
    {
      "cell_type": "code",
      "metadata": {
        "id": "4Hc9MuDrl9n1",
        "colab_type": "code",
        "colab": {}
      },
      "source": [
        "x = np.linspace(-10, 10, 2000)\n",
        "y = np.linspace(-10, 10, 2000)\n",
        "X, Y = np.meshgrid(x, y)\n",
        "Z = h(X, Y)\n",
        "plt.contour(X, Y, Z, 10, colors='black')\n",
        "\n",
        "p1x = np.array([-0.2])\n",
        "p1y = np.array([0])\n",
        "p1z = h(p1x, p1y)\n",
        "plt.plot(p1x, p1y, p1z, 'ro')"
      ],
      "execution_count": 0,
      "outputs": []
    },
    {
      "cell_type": "code",
      "metadata": {
        "id": "yksDUrbYnHmA",
        "colab_type": "code",
        "colab": {}
      },
      "source": [
        "ax = plt.axes(projection='3d')\n",
        "x = np.linspace(-10, 10, 2000)\n",
        "y = np.linspace(-10, 10, 2000)\n",
        "X, Y = np.meshgrid(x, y)\n",
        "Z = h(X, Y)\n",
        "plt.contourf(X, Y, Z, 10, cmap='RdGy')\n",
        "\n",
        "p1x = np.array([-0.2])\n",
        "p1y = np.array([0])\n",
        "p1z = h(p1x, p1y)\n",
        "plt.plot(p1x, p1y, p1z, 'ro')"
      ],
      "execution_count": 0,
      "outputs": []
    }
  ]
}
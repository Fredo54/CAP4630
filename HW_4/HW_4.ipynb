{
  "nbformat": 4,
  "nbformat_minor": 0,
  "metadata": {
    "colab": {
      "name": "HW_4.ipynb",
      "provenance": [],
      "collapsed_sections": [],
      "authorship_tag": "ABX9TyOWjiPSmBhb7zb3h8Ux0B5J",
      "include_colab_link": true
    },
    "kernelspec": {
      "name": "python3",
      "display_name": "Python 3"
    }
  },
  "cells": [
    {
      "cell_type": "markdown",
      "metadata": {
        "id": "view-in-github",
        "colab_type": "text"
      },
      "source": [
        "<a href=\"https://colab.research.google.com/github/Fredo54/CAP4630/blob/master/HW_4/HW_4.ipynb\" target=\"_parent\"><img src=\"https://colab.research.google.com/assets/colab-badge.svg\" alt=\"Open In Colab\"/></a>"
      ]
    },
    {
      "cell_type": "markdown",
      "metadata": {
        "id": "OlEaYDW-wQSA",
        "colab_type": "text"
      },
      "source": [
        "Problem 1"
      ]
    },
    {
      "cell_type": "code",
      "metadata": {
        "id": "cUvB6BwcgErj",
        "colab_type": "code",
        "outputId": "85d2da7b-ff53-4c92-9b57-060ed1c8a34b",
        "colab": {
          "base_uri": "https://localhost:8080/",
          "height": 34
        }
      },
      "source": [
        "import numpy as np\n",
        "\n",
        "\"\"\"\"\n",
        "Using only numpy, implement the function conv2d. \n",
        "It takes as input input_mat and kernel_mat and outputs output_mat. \n",
        "All variables are square matrices. \n",
        "It should compute the convolution of input_mat with the kernel kernel_mat using valid padding.\n",
        "\n",
        "Note that the size s of the kernel matrix can also be an even number.\n",
        "\"\"\"\n",
        "\n",
        "class invalid_input(Exception):\n",
        "  print(\"Error: Input matrix is invalid!\")\n",
        "  exit(1)\n",
        "  \n",
        "\n",
        "def conv2d(input_mat, kernel_mat):\n",
        "  # Check that the matrices are square \n",
        "  if kernel_mat.shape[0] != kernel_mat.shape[1] or input_mat.shape[0] != input_mat.shape[1]:\n",
        "    raise invalid_input()\n",
        "\n",
        "  else:\n",
        "    n = input_mat.shape[0] - kernel_mat.shape[0] + 1\n",
        "    m = kernel_mat.shape[0]\n",
        "  \n",
        "\n",
        "  output_mat = np.zeros((n, n))\n",
        "\n",
        "  for i in range(n):\n",
        "    for k in range(n):\n",
        "      conv = np.multiply(input_mat[i:i+m, k:k+m], kernel_mat)\n",
        "      output_mat[i,k] = np.sum(conv)\n",
        "\n",
        "  return output_mat\n",
        "\n",
        "\n",
        "def check_conv2d(input_mat, kernel_mat, expected_mat):\n",
        "  res = conv2d(input_mat, kernel_mat)\n",
        "  if (res == expected_mat).all():\n",
        "    return True\n",
        "  else:\n",
        "    return False\n",
        "\n"
      ],
      "execution_count": 0,
      "outputs": [
        {
          "output_type": "stream",
          "text": [
            "Error: Input matrix is invalid!\n"
          ],
          "name": "stdout"
        }
      ]
    },
    {
      "cell_type": "code",
      "metadata": {
        "id": "ZD8mQwkRgxQz",
        "colab_type": "code",
        "outputId": "623d56c1-b49c-4dc1-e0d4-80875737f910",
        "colab": {
          "base_uri": "https://localhost:8080/",
          "height": 374
        }
      },
      "source": [
        "kernel_mat = []\n",
        "expected_mat = []\n",
        "input_mat = []\n",
        "# test case 1\n",
        "input_mat.append(np.array([[1, 2, 1, 2],\n",
        "                      [2, 1, 2, 1],\n",
        "                      [1, 2, 1, 2],\n",
        "                      [2, 1, 2, 1]]))\n",
        "\n",
        "kernel_mat.append(np.array([[1, 0],\n",
        "                       [0, 1]]))\n",
        "\n",
        "expected_mat.append(np.array([[2, 4, 2],\n",
        "                                [4, 2, 4],\n",
        "                                [2, 4, 2]]))\n",
        "\n",
        "# test case 2\n",
        "input_mat.append(np.array([[1, 0, 0, 0],\n",
        "                      [0, 1, 0, 0],\n",
        "                      [0, 0, 1, 0],\n",
        "                      [0, 0, 0, 1]]))\n",
        "kernel_mat.append(np.array([[1, 0], [0, 1]]))\n",
        "expected_mat.append(np.array([[2, 0, 0], [0, 2, 0], [0, 0, 2]]))\n",
        "\n",
        "\n",
        "# test case 3\n",
        "input_mat.append(np.array([[1, 0, 0, 0],\n",
        "                      [0, 1, 0, 0],\n",
        "                      [0, 0, 1, 0],\n",
        "                      [0, 0, 0, 1]]))\n",
        "kernel_mat.append(np.array([[1, -1],\n",
        "                       [-1, 0]]))\n",
        "\n",
        "expected_mat.append(np.array([[ 1, -1,  0], [-1,  1, -1],[ 0, -1,  1]]))\n",
        "\n",
        "\n",
        "# test case 4\n",
        "input_mat.append(np.array([[1, 0, 0, 0],\n",
        "                      [0, 1, 0, 0],\n",
        "                      [0, 0, 1, 0],\n",
        "                      [0, 0, 0, 1]]))\n",
        "kernel_mat.append(np.array([[1, 0, 0, 0],\n",
        "                      [0, 1, 0, 0],\n",
        "                      [0, 0, 1, 0],\n",
        "                      [0, 0, 0, 1]]))\n",
        "\n",
        "expected_mat.append(np.array([[4]]))\n",
        "\n",
        "\n",
        "# test case 5 - should either through an error, or return empty matrix\n",
        "input_mat.append(np.array([[1, -1],\n",
        "                       [-1, 0]]))\n",
        "kernel_mat.append(np.array([[1, 0, 0, 0],\n",
        "                      [0, 1, 0, 0],\n",
        "                      [0, 0, 1, 0],\n",
        "                      [0, 0, 0, 1]]))\n",
        "\n",
        "expected_mat.append([])\n",
        "\n",
        "\n",
        "\n",
        "for i in range(len(input_mat)):\n",
        "  if input_mat[i].shape[0] < kernel_mat[i].shape[0]:\n",
        "    output_mat = []\n",
        "  else:\n",
        "    output_mat = conv2d(input_mat[i], kernel_mat[i])\n",
        "\n",
        "  print(output_mat)\n",
        "  if np.array_equal(output_mat, expected_mat[i]):\n",
        "    print(\"Correct output!\\n\")\n",
        "  else:\n",
        "    print(\"Incorrect output!\\n\")"
      ],
      "execution_count": 0,
      "outputs": [
        {
          "output_type": "stream",
          "text": [
            "[[2. 4. 2.]\n",
            " [4. 2. 4.]\n",
            " [2. 4. 2.]]\n",
            "Correct output!\n",
            "\n",
            "[[2. 0. 0.]\n",
            " [0. 2. 0.]\n",
            " [0. 0. 2.]]\n",
            "Correct output!\n",
            "\n",
            "[[ 1. -1.  0.]\n",
            " [-1.  1. -1.]\n",
            " [ 0. -1.  1.]]\n",
            "Correct output!\n",
            "\n",
            "[[4.]]\n",
            "Correct output!\n",
            "\n",
            "[]\n",
            "Correct output!\n",
            "\n"
          ],
          "name": "stdout"
        }
      ]
    },
    {
      "cell_type": "markdown",
      "metadata": {
        "id": "VJnm1HASx8_I",
        "colab_type": "text"
      },
      "source": [
        "Problem 2"
      ]
    },
    {
      "cell_type": "code",
      "metadata": {
        "id": "cukiR5Jcx-yB",
        "colab_type": "code",
        "outputId": "5648b5d2-0f5f-40fb-8c84-26c1061b61b2",
        "colab": {
          "base_uri": "https://localhost:8080/",
          "height": 34
        }
      },
      "source": [
        "import numpy as np\n",
        "import math\n",
        "\n",
        "def find_max(input_mat):\n",
        "  max = input_mat[0][0]\n",
        "  for i in range(input_mat.shape[0]):\n",
        "    for j in range(input_mat.shape[1]):\n",
        "      if input_mat[i][j] > max:\n",
        "        max = input_mat[i][j]\n",
        "  return max\n",
        "\n",
        "class invalid_input(Exception):\n",
        "  print(\"Error: Input matrix is invalid!\")\n",
        "  exit(1)\n",
        "\n",
        "\n",
        "def maxpooling2d(input_mat, s):\n",
        "  try:\n",
        "    if (input_mat.shape[0] != input_mat.shape[1]):\n",
        "      raise invalid_input\n",
        "\n",
        "    output_mat = np.zeros((math.floor(input_mat.shape[0] / s), math.floor(input_mat.shape[1] / s)), dtype=int)\n",
        "\n",
        "    for i in range(output_mat.shape[0]):\n",
        "      for j in range(output_mat.shape[1]):\n",
        "        output_mat[i][j] = find_max(input_mat[i * s : (i+1) * s, j * s : (j+1) * s])\n",
        "\n",
        "    return output_mat\n",
        "  except invalid_input:\n",
        "    raise invalid_input"
      ],
      "execution_count": 0,
      "outputs": [
        {
          "output_type": "stream",
          "text": [
            "Error: Input matrix is invalid!\n"
          ],
          "name": "stdout"
        }
      ]
    },
    {
      "cell_type": "code",
      "metadata": {
        "id": "t61zVMcGzHR8",
        "colab_type": "code",
        "outputId": "60287029-c881-40bb-dbb6-41e4861031a5",
        "colab": {
          "base_uri": "https://localhost:8080/",
          "height": 374
        }
      },
      "source": [
        "from scipy import signal\n",
        "import numpy as np\n",
        "\n",
        "input_mat = []\n",
        "kernel_mat = []\n",
        "expected_mat = []\n",
        "\n",
        "# test case 1\n",
        "input_mat.append(np.array([[1, 2, 1, 2],\n",
        "                      [2, 1, 2, 1],\n",
        "                      [1, 2, 1, 2],\n",
        "                      [2, 1, 2, 1]]))\n",
        "\n",
        "kernel_mat.append(np.array([[1, 0],\n",
        "                       [0, 1]]))\n",
        "\n",
        "expected_mat.append(np.array([[2, 4, 2],\n",
        "                                [4, 2, 4],\n",
        "                                [2, 4, 2]]))\n",
        "\n",
        "# test case 2\n",
        "input_mat.append(np.array([[1, 0, 0, 0],\n",
        "                      [0, 1, 0, 0],\n",
        "                      [0, 0, 1, 0],\n",
        "                      [0, 0, 0, 1]]))\n",
        "kernel_mat.append(np.array([[1, 0], [0, 1]]))\n",
        "expected_mat.append(np.array([[2, 0, 0], [0, 2, 0], [0, 0, 2]]))\n",
        "\n",
        "\n",
        "# test case 3\n",
        "input_mat.append(np.array([[1, 0, 0, 0],\n",
        "                      [0, 1, 0, 0],\n",
        "                      [0, 0, 1, 0],\n",
        "                      [0, 0, 0, 1]]))\n",
        "kernel_mat.append(np.array([[1, -1],\n",
        "                       [-1, 0]]))\n",
        "\n",
        "expected_mat.append(np.array([[ 1, -1,  0], [-1,  1, -1],[ 0, -1,  1]]))\n",
        "\n",
        "\n",
        "# test case 4\n",
        "input_mat.append(np.array([[1, 0, 0, 0],\n",
        "                      [0, 1, 0, 0],\n",
        "                      [0, 0, 1, 0],\n",
        "                      [0, 0, 0, 1]]))\n",
        "kernel_mat.append(np.array([[1, 0, 0, 0],\n",
        "                      [0, 1, 0, 0],\n",
        "                      [0, 0, 1, 0],\n",
        "                      [0, 0, 0, 1]]))\n",
        "\n",
        "expected_mat.append(np.array([[4]]))\n",
        "\n",
        "\n",
        "# test case 5 - should either through an error, or return empty matrix\n",
        "input_mat.append(np.array([[1, -1],\n",
        "                       [-1, 0]]))\n",
        "kernel_mat.append(np.array([[1, 0, 0, 0],\n",
        "                      [0, 1, 0, 0],\n",
        "                      [0, 0, 1, 0],\n",
        "                      [0, 0, 0, 1]]))\n",
        "\n",
        "expected_mat.append([])\n",
        "\n",
        "\n",
        "\n",
        "for i in range(len(input_mat)):\n",
        "  # uncomment line for student code testing\n",
        "  #output_mat = conv2d(input_mat[i], kernel_mat[i])\n",
        "\n",
        "  # uncomment lines below (and comment line above) for generating test cases.\n",
        "  if input_mat[i].shape[0] < kernel_mat[i].shape[0]:\n",
        "    output_mat = []\n",
        "  else:\n",
        "    output_mat = signal.convolve2d(input_mat[i], kernel_mat[i], mode='valid')\n",
        "\n",
        "  print(output_mat)\n",
        "  if np.array_equal(output_mat, expected_mat[i]):\n",
        "    print(\"Correct output!\\n\")\n",
        "  else:\n",
        "    print(\"Incorrect output!\\n\")\n"
      ],
      "execution_count": 0,
      "outputs": [
        {
          "output_type": "stream",
          "text": [
            "[[2 4 2]\n",
            " [4 2 4]\n",
            " [2 4 2]]\n",
            "Correct output!\n",
            "\n",
            "[[2 0 0]\n",
            " [0 2 0]\n",
            " [0 0 2]]\n",
            "Correct output!\n",
            "\n",
            "[[ 1 -1  0]\n",
            " [-1  1 -1]\n",
            " [ 0 -1  1]]\n",
            "Correct output!\n",
            "\n",
            "[[4]]\n",
            "Correct output!\n",
            "\n",
            "[]\n",
            "Correct output!\n",
            "\n"
          ],
          "name": "stdout"
        }
      ]
    },
    {
      "cell_type": "code",
      "metadata": {
        "id": "RPji4PGFzJnJ",
        "colab_type": "code",
        "outputId": "2bcf87cd-4636-414e-fed0-09735f797181",
        "colab": {
          "base_uri": "https://localhost:8080/",
          "height": 136
        }
      },
      "source": [
        "import skimage.measure\n",
        "\n",
        "input_mat = []\n",
        "expected_mat = []\n",
        "s = []\n",
        "input_mat.append(np.array([[1, 2, 1, 2],\n",
        "                      [2, 4, 2, 1],\n",
        "                      [1, 2, 4, 2],\n",
        "                      [2, 1, 2, 1]]))\n",
        "s.append(2)\n",
        "\n",
        "expected_mat.append(np.array([[4, 2],\n",
        "                                [2, 4]]))\n",
        "\n",
        "input_mat.append(np.array([[1, 2, 1, 2, 4, 5],\n",
        "                      [2, 4, 2, 1, 0, 3],\n",
        "                      [1, 2, 4, 2, 4, 5],\n",
        "                      [2, 1, 2, 1, 2, 1],\n",
        "                      [1, 1, 2, 3, 1, 2],\n",
        "                      [1, 1, 2, 3, 1, 2]]))\n",
        "s.append(2)\n",
        "\n",
        "expected_mat.append([[4, 2, 5],\n",
        " [2, 4, 5],\n",
        " [1, 3, 2]])\n",
        "\n",
        "\n",
        "for i in range(len(input_mat)):\n",
        "  # uncomment top line and comment second line to test code\n",
        "  #output_mat = maxpooling2d(input_mat[i], s[i])\n",
        "  output_mat = skimage.measure.block_reduce(input_mat[i], (s[i],s[i]), np.max)\n",
        "\n",
        "  print(output_mat)\n",
        "\n",
        "  if np.array_equal(output_mat, expected_mat[i]):\n",
        "    print(\"Correct output!\")\n",
        "  else:\n",
        "    print(\"Incorrect output!\")\n"
      ],
      "execution_count": 0,
      "outputs": [
        {
          "output_type": "stream",
          "text": [
            "[[4 2]\n",
            " [2 4]]\n",
            "Correct output!\n",
            "[[4 2 5]\n",
            " [2 4 5]\n",
            " [1 3 2]]\n",
            "Correct output!\n"
          ],
          "name": "stdout"
        }
      ]
    }
  ]
}